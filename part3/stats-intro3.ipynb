{
 "cells": [
  {
   "cell_type": "markdown",
   "metadata": {},
   "source": [
    "# Part 3 - ANalysis Of VAriance (ANOVA)\n",
    "\n",
    "In this section, we will move beyond comparing two groups, and explore methods to compare *more than two groups* using Analysis of Variance (ANOVA). ANOVA helps us understand if there are significant differences between the means of multiple groups. Specifically, we will:\n",
    "\n",
    "* Understand the purpose of ANOVA and its assumptions\n",
    "* Visualize data across multiple groups\n",
    "* Perform one-way ANOVA using Python to compare penguin body mass across species and sexes\n",
    "* Interpret ANOVA results and checking post-hoc comparisons\n",
    "\n",
    "### Understanding ANOVA\n",
    "\n",
    "ANOVA, or Analysis of Variance, is a statistical method used to test if there are statistically significant differences between the means of two or more groups. For example, we could use ANOVA to test whether there are differences in body mass between different penguin species and different sexes.\n",
    "\n",
    "The hypotheses in ANOVA are:\n",
    "\n",
    "* Null Hypothesis (H₀): All group means are equal (no significant difference between the groups).\n",
    "* Alternative Hypothesis (H₁): At least one group mean is different.\n",
    "\n",
    "ANOVA itself will not reveal *which* groups are different from each other. To elucidate that, there are different methods, and we will look at one of them, called the Tukey's HSD (honestly significant difference) test, which does pairwise comparisons for all the groups.\n",
    "\n",
    "**Key assumptions of ANOVA**:\n",
    "1. Independence: Each entry in the dataset should be independent from the others.\n",
    "2. Normality: The data within each group should follow a normal distribution.\n",
    "3. Homogeneity of variances: The variance within each group should be similar (homoscedasticity).\n",
    "\n",
    "When these assumptions are met, ANOVA is a powerful tool for analyzing group differences. If the assumptions are violated, alternative tests like the Kruskal-Wallis test (which is an extension of the Mann-Whitney U test used in part 1) can be used."
   ]
  },
  {
   "cell_type": "markdown",
   "metadata": {},
   "source": [
    "## Loading necessary libraries and data"
   ]
  },
  {
   "cell_type": "code",
   "execution_count": 97,
   "metadata": {},
   "outputs": [],
   "source": [
    "from pylab import *\n",
    "import pandas\n",
    "import scipy.stats\n",
    "\n",
    "import statsmodels.api as sm\n",
    "import statsmodels.formula.api as smf"
   ]
  },
  {
   "cell_type": "markdown",
   "metadata": {},
   "source": [
    "## Data loading and cleaning\n",
    "\n",
    "We will first load the data from the penguin survey from the CSV file into a pandas dataframe and remove NaN entries."
   ]
  },
  {
   "cell_type": "code",
   "execution_count": 87,
   "metadata": {},
   "outputs": [
    {
     "data": {
      "text/html": [
       "<div>\n",
       "<style scoped>\n",
       "    .dataframe tbody tr th:only-of-type {\n",
       "        vertical-align: middle;\n",
       "    }\n",
       "\n",
       "    .dataframe tbody tr th {\n",
       "        vertical-align: top;\n",
       "    }\n",
       "\n",
       "    .dataframe thead th {\n",
       "        text-align: right;\n",
       "    }\n",
       "</style>\n",
       "<table border=\"1\" class=\"dataframe\">\n",
       "  <thead>\n",
       "    <tr style=\"text-align: right;\">\n",
       "      <th></th>\n",
       "      <th>species</th>\n",
       "      <th>island</th>\n",
       "      <th>bill_length_mm</th>\n",
       "      <th>bill_depth_mm</th>\n",
       "      <th>flipper_length_mm</th>\n",
       "      <th>body_mass_g</th>\n",
       "      <th>sex</th>\n",
       "    </tr>\n",
       "  </thead>\n",
       "  <tbody>\n",
       "    <tr>\n",
       "      <th>0</th>\n",
       "      <td>Adelie</td>\n",
       "      <td>Torgersen</td>\n",
       "      <td>39.1</td>\n",
       "      <td>18.7</td>\n",
       "      <td>181.0</td>\n",
       "      <td>3750.0</td>\n",
       "      <td>MALE</td>\n",
       "    </tr>\n",
       "    <tr>\n",
       "      <th>1</th>\n",
       "      <td>Adelie</td>\n",
       "      <td>Torgersen</td>\n",
       "      <td>39.5</td>\n",
       "      <td>17.4</td>\n",
       "      <td>186.0</td>\n",
       "      <td>3800.0</td>\n",
       "      <td>FEMALE</td>\n",
       "    </tr>\n",
       "    <tr>\n",
       "      <th>2</th>\n",
       "      <td>Adelie</td>\n",
       "      <td>Torgersen</td>\n",
       "      <td>40.3</td>\n",
       "      <td>18.0</td>\n",
       "      <td>195.0</td>\n",
       "      <td>3250.0</td>\n",
       "      <td>FEMALE</td>\n",
       "    </tr>\n",
       "    <tr>\n",
       "      <th>4</th>\n",
       "      <td>Adelie</td>\n",
       "      <td>Torgersen</td>\n",
       "      <td>36.7</td>\n",
       "      <td>19.3</td>\n",
       "      <td>193.0</td>\n",
       "      <td>3450.0</td>\n",
       "      <td>FEMALE</td>\n",
       "    </tr>\n",
       "    <tr>\n",
       "      <th>5</th>\n",
       "      <td>Adelie</td>\n",
       "      <td>Torgersen</td>\n",
       "      <td>39.3</td>\n",
       "      <td>20.6</td>\n",
       "      <td>190.0</td>\n",
       "      <td>3650.0</td>\n",
       "      <td>MALE</td>\n",
       "    </tr>\n",
       "    <tr>\n",
       "      <th>...</th>\n",
       "      <td>...</td>\n",
       "      <td>...</td>\n",
       "      <td>...</td>\n",
       "      <td>...</td>\n",
       "      <td>...</td>\n",
       "      <td>...</td>\n",
       "      <td>...</td>\n",
       "    </tr>\n",
       "    <tr>\n",
       "      <th>338</th>\n",
       "      <td>Gentoo</td>\n",
       "      <td>Biscoe</td>\n",
       "      <td>47.2</td>\n",
       "      <td>13.7</td>\n",
       "      <td>214.0</td>\n",
       "      <td>4925.0</td>\n",
       "      <td>FEMALE</td>\n",
       "    </tr>\n",
       "    <tr>\n",
       "      <th>340</th>\n",
       "      <td>Gentoo</td>\n",
       "      <td>Biscoe</td>\n",
       "      <td>46.8</td>\n",
       "      <td>14.3</td>\n",
       "      <td>215.0</td>\n",
       "      <td>4850.0</td>\n",
       "      <td>FEMALE</td>\n",
       "    </tr>\n",
       "    <tr>\n",
       "      <th>341</th>\n",
       "      <td>Gentoo</td>\n",
       "      <td>Biscoe</td>\n",
       "      <td>50.4</td>\n",
       "      <td>15.7</td>\n",
       "      <td>222.0</td>\n",
       "      <td>5750.0</td>\n",
       "      <td>MALE</td>\n",
       "    </tr>\n",
       "    <tr>\n",
       "      <th>342</th>\n",
       "      <td>Gentoo</td>\n",
       "      <td>Biscoe</td>\n",
       "      <td>45.2</td>\n",
       "      <td>14.8</td>\n",
       "      <td>212.0</td>\n",
       "      <td>5200.0</td>\n",
       "      <td>FEMALE</td>\n",
       "    </tr>\n",
       "    <tr>\n",
       "      <th>343</th>\n",
       "      <td>Gentoo</td>\n",
       "      <td>Biscoe</td>\n",
       "      <td>49.9</td>\n",
       "      <td>16.1</td>\n",
       "      <td>213.0</td>\n",
       "      <td>5400.0</td>\n",
       "      <td>MALE</td>\n",
       "    </tr>\n",
       "  </tbody>\n",
       "</table>\n",
       "<p>333 rows × 7 columns</p>\n",
       "</div>"
      ],
      "text/plain": [
       "    species     island  bill_length_mm  bill_depth_mm  flipper_length_mm  \\\n",
       "0    Adelie  Torgersen            39.1           18.7              181.0   \n",
       "1    Adelie  Torgersen            39.5           17.4              186.0   \n",
       "2    Adelie  Torgersen            40.3           18.0              195.0   \n",
       "4    Adelie  Torgersen            36.7           19.3              193.0   \n",
       "5    Adelie  Torgersen            39.3           20.6              190.0   \n",
       "..      ...        ...             ...            ...                ...   \n",
       "338  Gentoo     Biscoe            47.2           13.7              214.0   \n",
       "340  Gentoo     Biscoe            46.8           14.3              215.0   \n",
       "341  Gentoo     Biscoe            50.4           15.7              222.0   \n",
       "342  Gentoo     Biscoe            45.2           14.8              212.0   \n",
       "343  Gentoo     Biscoe            49.9           16.1              213.0   \n",
       "\n",
       "     body_mass_g     sex  \n",
       "0         3750.0    MALE  \n",
       "1         3800.0  FEMALE  \n",
       "2         3250.0  FEMALE  \n",
       "4         3450.0  FEMALE  \n",
       "5         3650.0    MALE  \n",
       "..           ...     ...  \n",
       "338       4925.0  FEMALE  \n",
       "340       4850.0  FEMALE  \n",
       "341       5750.0    MALE  \n",
       "342       5200.0  FEMALE  \n",
       "343       5400.0    MALE  \n",
       "\n",
       "[333 rows x 7 columns]"
      ]
     },
     "execution_count": 87,
     "metadata": {},
     "output_type": "execute_result"
    }
   ],
   "source": [
    "penguins=pandas.read_csv('penguins.csv')\n",
    "penguins_clean = penguins.dropna()\n",
    "penguins_clean"
   ]
  },
  {
   "cell_type": "markdown",
   "metadata": {},
   "source": [
    "## Exploratory data analysis\n",
    "\n",
    "Before running the ANOVA, let's visualize the body mass data for the different penguin species divided by sex to get an initial understanding of the group differences."
   ]
  },
  {
   "cell_type": "code",
   "execution_count": 15,
   "metadata": {},
   "outputs": [
    {
     "data": {
      "text/html": [
       "<div>\n",
       "<style scoped>\n",
       "    .dataframe tbody tr th:only-of-type {\n",
       "        vertical-align: middle;\n",
       "    }\n",
       "\n",
       "    .dataframe tbody tr th {\n",
       "        vertical-align: top;\n",
       "    }\n",
       "\n",
       "    .dataframe thead th {\n",
       "        text-align: right;\n",
       "    }\n",
       "</style>\n",
       "<table border=\"1\" class=\"dataframe\">\n",
       "  <thead>\n",
       "    <tr style=\"text-align: right;\">\n",
       "      <th></th>\n",
       "      <th></th>\n",
       "      <th>count</th>\n",
       "      <th>mean</th>\n",
       "      <th>std</th>\n",
       "      <th>min</th>\n",
       "      <th>25%</th>\n",
       "      <th>50%</th>\n",
       "      <th>75%</th>\n",
       "      <th>max</th>\n",
       "    </tr>\n",
       "    <tr>\n",
       "      <th>species</th>\n",
       "      <th>sex</th>\n",
       "      <th></th>\n",
       "      <th></th>\n",
       "      <th></th>\n",
       "      <th></th>\n",
       "      <th></th>\n",
       "      <th></th>\n",
       "      <th></th>\n",
       "      <th></th>\n",
       "    </tr>\n",
       "  </thead>\n",
       "  <tbody>\n",
       "    <tr>\n",
       "      <th rowspan=\"2\" valign=\"top\">Adelie</th>\n",
       "      <th>FEMALE</th>\n",
       "      <td>73.0</td>\n",
       "      <td>3368.835616</td>\n",
       "      <td>269.380102</td>\n",
       "      <td>2850.0</td>\n",
       "      <td>3175.00</td>\n",
       "      <td>3400.0</td>\n",
       "      <td>3550.00</td>\n",
       "      <td>3900.0</td>\n",
       "    </tr>\n",
       "    <tr>\n",
       "      <th>MALE</th>\n",
       "      <td>73.0</td>\n",
       "      <td>4043.493151</td>\n",
       "      <td>346.811553</td>\n",
       "      <td>3325.0</td>\n",
       "      <td>3800.00</td>\n",
       "      <td>4000.0</td>\n",
       "      <td>4300.00</td>\n",
       "      <td>4775.0</td>\n",
       "    </tr>\n",
       "    <tr>\n",
       "      <th rowspan=\"2\" valign=\"top\">Chinstrap</th>\n",
       "      <th>FEMALE</th>\n",
       "      <td>34.0</td>\n",
       "      <td>3527.205882</td>\n",
       "      <td>285.333912</td>\n",
       "      <td>2700.0</td>\n",
       "      <td>3362.50</td>\n",
       "      <td>3550.0</td>\n",
       "      <td>3693.75</td>\n",
       "      <td>4150.0</td>\n",
       "    </tr>\n",
       "    <tr>\n",
       "      <th>MALE</th>\n",
       "      <td>34.0</td>\n",
       "      <td>3938.970588</td>\n",
       "      <td>362.137550</td>\n",
       "      <td>3250.0</td>\n",
       "      <td>3731.25</td>\n",
       "      <td>3950.0</td>\n",
       "      <td>4100.00</td>\n",
       "      <td>4800.0</td>\n",
       "    </tr>\n",
       "    <tr>\n",
       "      <th rowspan=\"2\" valign=\"top\">Gentoo</th>\n",
       "      <th>FEMALE</th>\n",
       "      <td>58.0</td>\n",
       "      <td>4679.741379</td>\n",
       "      <td>281.578294</td>\n",
       "      <td>3950.0</td>\n",
       "      <td>4462.50</td>\n",
       "      <td>4700.0</td>\n",
       "      <td>4875.00</td>\n",
       "      <td>5200.0</td>\n",
       "    </tr>\n",
       "    <tr>\n",
       "      <th>MALE</th>\n",
       "      <td>61.0</td>\n",
       "      <td>5484.836066</td>\n",
       "      <td>313.158596</td>\n",
       "      <td>4750.0</td>\n",
       "      <td>5300.00</td>\n",
       "      <td>5500.0</td>\n",
       "      <td>5700.00</td>\n",
       "      <td>6300.0</td>\n",
       "    </tr>\n",
       "  </tbody>\n",
       "</table>\n",
       "</div>"
      ],
      "text/plain": [
       "                  count         mean         std     min      25%     50%  \\\n",
       "species   sex                                                               \n",
       "Adelie    FEMALE   73.0  3368.835616  269.380102  2850.0  3175.00  3400.0   \n",
       "          MALE     73.0  4043.493151  346.811553  3325.0  3800.00  4000.0   \n",
       "Chinstrap FEMALE   34.0  3527.205882  285.333912  2700.0  3362.50  3550.0   \n",
       "          MALE     34.0  3938.970588  362.137550  3250.0  3731.25  3950.0   \n",
       "Gentoo    FEMALE   58.0  4679.741379  281.578294  3950.0  4462.50  4700.0   \n",
       "          MALE     61.0  5484.836066  313.158596  4750.0  5300.00  5500.0   \n",
       "\n",
       "                      75%     max  \n",
       "species   sex                      \n",
       "Adelie    FEMALE  3550.00  3900.0  \n",
       "          MALE    4300.00  4775.0  \n",
       "Chinstrap FEMALE  3693.75  4150.0  \n",
       "          MALE    4100.00  4800.0  \n",
       "Gentoo    FEMALE  4875.00  5200.0  \n",
       "          MALE    5700.00  6300.0  "
      ]
     },
     "execution_count": 15,
     "metadata": {},
     "output_type": "execute_result"
    }
   ],
   "source": [
    "penguins_clean.groupby(['species','sex'])['body_mass_g'].describe()"
   ]
  },
  {
   "cell_type": "markdown",
   "metadata": {},
   "source": [
    "The last 5 columns of this table can be represented as a boxplot."
   ]
  },
  {
   "cell_type": "code",
   "execution_count": 20,
   "metadata": {},
   "outputs": [
    {
     "data": {
      "image/png": "[encoded data removed]",
      "text/plain": [
       "<Figure size 640x480 with 1 Axes>"
      ]
     },
     "metadata": {},
     "output_type": "display_data"
    }
   ],
   "source": [
    "penguins_clean.boxplot(column=['body_mass_g'],by=['species','sex'],grid=False)\n",
    "ylabel('Body Mass (g)')\n",
    "xticks(rotation=90)\n",
    "show()"
   ]
  },
  {
   "cell_type": "markdown",
   "metadata": {},
   "source": [
    "We will further inspect the distributions by plotting the histograms."
   ]
  },
  {
   "cell_type": "code",
   "execution_count": 48,
   "metadata": {},
   "outputs": [
    {
     "data": {
      "image/png": "[encoded data removed]",
      "text/plain": [
       "<Figure size 800x800 with 2 Axes>"
      ]
     },
     "metadata": {},
     "output_type": "display_data"
    }
   ],
   "source": [
    "fig,axs=subplots(2,1,sharex=True)\n",
    "fig.set_size_inches(8,8)\n",
    "penguins_clean[penguins_clean['species']=='Adelie'].hist(column=['body_mass_g'],by=\"sex\",bins=15,grid=False,alpha=0.5,ax=axs,label=\"Adelie\")\n",
    "penguins_clean[penguins_clean['species']=='Chinstrap'].hist(column=['body_mass_g'],by=\"sex\",bins=15,grid=False,alpha=0.5,ax=axs,label=\"Chinstrap\")\n",
    "penguins_clean[penguins_clean['species']=='Gentoo'].hist(column=['body_mass_g'],by=\"sex\",bins=15,grid=False,alpha=0.5,ax=axs,label=\"Gentoo\")\n",
    "legend()\n",
    "xlabel(\"Body mass (g)\")\n",
    "show()"
   ]
  },
  {
   "cell_type": "markdown",
   "metadata": {},
   "source": [
    "From the plots above, we can see that the body mass distributions *look* different for some of the groups: distributions of body mass of female penguins of the Adelie and Chinstrap species may be consistent between them, as well as for the male penguins of the same species; the distributions of bodymass for the Gentoo species, either male or female, seem different from all other. However, as in part 1, also here visual proof is not enough to say if there actually is a difference in body mass between the species and sexes. We again need to now perform formal statistical analysis on the data.\n",
    "\n",
    "### ANOVA - data assumptions\n",
    "\n",
    "ANOVA has the same data assumptions as the t-test. \n",
    "\n",
    "1. Independence of Observations: The data points in each group must be independent of each other.\n",
    "2. Normality: The data in each group should be approximately normally distributed, which is especially important for small sample sizes. This can be checked using normality tests (e.g., Shapiro-Wilk test) or visually with Q-Q plots.\n",
    "3. Homogeneity of Variances: The variances in all the groups should be roughly equal. This can be assessed using tests such as Levene’s test.\n",
    "\n",
    "If assumptions 2 or 3 are not met, you should use a non-parametric test, such as the Kruskall-Wallis test.\n",
    "\n",
    "If assumption 1 is not met, you can use the Friedmann test or use a mixed-effects model.\n",
    "\n",
    "As with the t-test, ANOVA is preffered over non-parametric alternatives if the assumptions are met, as it provides a more efficient and reliable way to detect differences between groups.\n",
    "\n",
    "### Checking assumptions\n",
    "\n",
    "We use the Shapiro-Wilk test to check if the body mass data is normally distributed for each species and sex combination.\n"
   ]
  },
  {
   "cell_type": "code",
   "execution_count": 54,
   "metadata": {},
   "outputs": [
    {
     "data": {
      "text/plain": [
       "species    sex   \n",
       "Adelie     FEMALE    (0.9768440127372742, 0.19853471219539642)\n",
       "           MALE      (0.9826933741569519, 0.41598090529441833)\n",
       "Chinstrap  FEMALE      (0.9634442925453186, 0.305530846118927)\n",
       "           MALE       (0.9841443300247192, 0.8910266160964966)\n",
       "Gentoo     FEMALE     (0.9813311100006104, 0.5106648802757263)\n",
       "           MALE       (0.9933638572692871, 0.9850469827651978)\n",
       "Name: body_mass_g, dtype: object"
      ]
     },
     "execution_count": 54,
     "metadata": {},
     "output_type": "execute_result"
    }
   ],
   "source": [
    "penguins_clean.groupby(['species','sex'])['body_mass_g'].apply(scipy.stats.shapiro)"
   ]
  },
  {
   "cell_type": "markdown",
   "metadata": {},
   "source": [
    "The p-values correspond to the second values in the tuples above. We see that all p-values are > 0.05 which means that the body mass of all groups can be considered normal, and condition 2 for applying ANOVA is met.\n",
    "\n",
    "You may remember that in part 1 we saw that the body mass of the Adelie and Gentoo species were not normally distributed when both male and female data were combined. We see now that when separating by sex, the data is consistent with a normal distribution.\n",
    "\n",
    "We will now use Levene’s test to check if the variances are equal between groups."
   ]
  },
  {
   "cell_type": "code",
   "execution_count": 84,
   "metadata": {},
   "outputs": [
    {
     "data": {
      "text/plain": [
       "LeveneResult(statistic=1.3908258638296644, pvalue=0.22721658048296456)"
      ]
     },
     "execution_count": 84,
     "metadata": {},
     "output_type": "execute_result"
    }
   ],
   "source": [
    "# convert grouped data of body mass to lists\n",
    "penguins_bm_by_species_sex=penguins_clean.groupby(['species','sex'])['body_mass_g'].apply(list).tolist()\n",
    "\n",
    "# the * below makes each element of the penguins_bm_by_species_sex list a separate argument\n",
    "scipy.stats.levene(*penguins_bm_by_species_sex)"
   ]
  },
  {
   "cell_type": "markdown",
   "metadata": {},
   "source": [
    "Since the p-value is > 0.05, we retain the null hypothesis, and conclude that the data for different groups is consisten with samples from distributions with equal variance. Therefore, condition 3 for the use of ANOVA is also verified, and we shall proceed to use ANOVA.\n",
    "\n",
    "### Performing ANOVA\n",
    "\n",
    "We will now conduct a Two-Way ANOVA to examine whether body mass is influenced by both species and sex. For this, we will use the `statsmodels` package, which provides a convenient way to perform ANOVA and interpret interaction effects.\n",
    "\n",
    "The model will test the following hypotheses:\n",
    "* H₀ (for species): The mean body mass is the same for all species.\n",
    "* H₀ (for sex): The mean body mass is the same for both sexes.\n",
    "* H₀ (interaction): There is no interaction effect between species and sex on body mass.\n",
    "\n",
    "The alternative hypotheses are:\n",
    "\n",
    "* H₁ (for species): The mean body mass is different for at least two of the species.\n",
    "* H₁ (for sex): The mean body mass is different for the two of the sexes.\n",
    "* H₁ (interaction): There is an interaction effect between species and sex on body mass.\n",
    "\n",
    "You might ask: What are these interaction effects?\n",
    "\n",
    "In ANOVA, interaction effects refer to the scenario where the effect of one independent variable (in this case penguin species) on the dependent variable (body mass) depends on the level of another independent variable (sex). Interaction effects help us understand whether two or more factors (independent variables) work together in a way that impacts the outcome differently than what would be expected from their individual effects alone.\n",
    "\n",
    "In our case:\n",
    "* The main effect of species would show whether different species of penguins have significantly different body masses.\n",
    "* The main effect of sex would show whether male and female penguins have different body masses across all species.\n",
    "* The interaction effect between species and sex would test whether the difference in body mass between males and females changes depending on the species.\n",
    "\n",
    "If there is no interaction, this means that the difference between, say, male and female penguins’ body mass is the same across all species. In this case, the main effects tell the full story.\n",
    "If there is an interaction effect, this means that the difference between male and female penguins’ body mass depends on the species. For example, the difference in body mass between male and female Gentoo penguins might be larger than between male and female Adelie penguins."
   ]
  },
  {
   "cell_type": "code",
   "execution_count": 100,
   "metadata": {},
   "outputs": [],
   "source": [
    "# Fit the two-way ANOVA model\n",
    "# We are investigating whether the body mass of pengiuns depends on the species, sex, or the interaction between the two variables.\n",
    "model=smf.ols('body_mass_g ~ species + sex + species:sex', data=penguins_clean).fit()"
   ]
  },
  {
   "cell_type": "code",
   "execution_count": 101,
   "metadata": {},
   "outputs": [
    {
     "data": {
      "text/html": [
       "<div>\n",
       "<style scoped>\n",
       "    .dataframe tbody tr th:only-of-type {\n",
       "        vertical-align: middle;\n",
       "    }\n",
       "\n",
       "    .dataframe tbody tr th {\n",
       "        vertical-align: top;\n",
       "    }\n",
       "\n",
       "    .dataframe thead th {\n",
       "        text-align: right;\n",
       "    }\n",
       "</style>\n",
       "<table border=\"1\" class=\"dataframe\">\n",
       "  <thead>\n",
       "    <tr style=\"text-align: right;\">\n",
       "      <th></th>\n",
       "      <th>sum_sq</th>\n",
       "      <th>df</th>\n",
       "      <th>F</th>\n",
       "      <th>PR(&gt;F)</th>\n",
       "    </tr>\n",
       "  </thead>\n",
       "  <tbody>\n",
       "    <tr>\n",
       "      <th>species</th>\n",
       "      <td>1.434016e+08</td>\n",
       "      <td>2.0</td>\n",
       "      <td>749.015666</td>\n",
       "      <td>8.144406e-123</td>\n",
       "    </tr>\n",
       "    <tr>\n",
       "      <th>sex</th>\n",
       "      <td>3.709026e+07</td>\n",
       "      <td>1.0</td>\n",
       "      <td>387.459976</td>\n",
       "      <td>1.902273e-57</td>\n",
       "    </tr>\n",
       "    <tr>\n",
       "      <th>species:sex</th>\n",
       "      <td>1.676557e+06</td>\n",
       "      <td>2.0</td>\n",
       "      <td>8.756997</td>\n",
       "      <td>1.973489e-04</td>\n",
       "    </tr>\n",
       "    <tr>\n",
       "      <th>Residual</th>\n",
       "      <td>3.130263e+07</td>\n",
       "      <td>327.0</td>\n",
       "      <td>NaN</td>\n",
       "      <td>NaN</td>\n",
       "    </tr>\n",
       "  </tbody>\n",
       "</table>\n",
       "</div>"
      ],
      "text/plain": [
       "                   sum_sq     df           F         PR(>F)\n",
       "species      1.434016e+08    2.0  749.015666  8.144406e-123\n",
       "sex          3.709026e+07    1.0  387.459976   1.902273e-57\n",
       "species:sex  1.676557e+06    2.0    8.756997   1.973489e-04\n",
       "Residual     3.130263e+07  327.0         NaN            NaN"
      ]
     },
     "execution_count": 101,
     "metadata": {},
     "output_type": "execute_result"
    }
   ],
   "source": [
    "sm.stats.anova_lm(model, typ=2)"
   ]
  },
  {
   "cell_type": "markdown",
   "metadata": {},
   "source": [
    "What do the results of this test tell us?\n",
    "\n",
    "The ANOVA table provides the p-values (PR(>F) column) for the main effects (species and sex) and their interaction. A significant p-value (< 0.05) indicates that we can reject the null hypothesis, and that the corresponding factor has a statistically significant effect on body mass.\n",
    "\n",
    "* If both main effects are significant, we can conclude that both species and sex have an independent impact on body mass.\n",
    "* If the interaction effect is significant, it suggests that the relationship between species and body mass differs depending on the sex of the penguins.\n",
    "\n",
    "We can see that the p-values for all the 3 tested hypotheses are less than 0.05, so we reject all the null hypotheses and can now conclude:\n",
    "\n",
    "**The mean body mass is different for at least two of the species.**\n",
    "\n",
    "**The mean body mass is different for the two of the sexes.**\n",
    "\n",
    "**There is an interaction effect between species and sex on body mass.**"
   ]
  },
  {
   "cell_type": "markdown",
   "metadata": {},
   "source": [
    "### Which groups are different from each other?\n",
    "\n",
    "In an ANOVA test, we may conclude that a significant difference exists between groups, but it doesn’t reveal which specific groups are different. \n",
    "\n",
    "To identify these differences, we use the Tukey’s Honestly Significant Difference (TukeyHSD) test, which performs pairwise comparisons between all group means.\n",
    "\n",
    "### TukeyHSD\n",
    "\n",
    "TukeyHSD is a post-hoc analysis that helps us find out which pairs of groups differ after we have conducted an ANOVA. It controls for the family-wise error rate, which is important when conducting multiple comparisons (as you have learned in part 2). Essentially, this test checks whether the differences between the means of any two groups are statistically significant, while maintaining a strict control over the probability of false positives.\n",
    "\n",
    "For example, in our analysis of penguin body mass, we have identified that species and sex both have significant effects, and we now wish to compare the means across different species and between sexes to pinpoint the differences."
   ]
  },
  {
   "cell_type": "code",
   "execution_count": 108,
   "metadata": {},
   "outputs": [
    {
     "data": {
      "text/html": [
       "<table class=\"simpletable\">\n",
       "<caption>Multiple Comparison of Means - Tukey HSD, FWER=0.05</caption>\n",
       "<tr>\n",
       "        <th>group1</th>             <th>group2</th>       <th>meandiff</th>   <th>p-adj</th>   <th>lower</th>     <th>upper</th>   <th>reject</th>\n",
       "</tr>\n",
       "<tr>\n",
       "    <td>Adelie - FEMALE</td>     <td>Adelie - MALE</td>   <td>674.6575</td>    <td>0.0</td>  <td>527.8486</td>  <td>821.4664</td>   <td>True</td> \n",
       "</tr>\n",
       "<tr>\n",
       "    <td>Adelie - FEMALE</td>  <td>Chinstrap - FEMALE</td> <td>158.3703</td>  <td>0.1376</td> <td>-25.7874</td>  <td>342.5279</td>   <td>False</td>\n",
       "</tr>\n",
       "<tr>\n",
       "    <td>Adelie - FEMALE</td>   <td>Chinstrap - MALE</td>   <td>570.135</td>    <td>0.0</td>  <td>385.9773</td>  <td>754.2926</td>   <td>True</td> \n",
       "</tr>\n",
       "<tr>\n",
       "    <td>Adelie - FEMALE</td>    <td>Gentoo - FEMALE</td>  <td>1310.9058</td>   <td>0.0</td>  <td>1154.8934</td> <td>1466.9181</td>  <td>True</td> \n",
       "</tr>\n",
       "<tr>\n",
       "    <td>Adelie - FEMALE</td>     <td>Gentoo - MALE</td>   <td>2116.0004</td>   <td>0.0</td>  <td>1962.1408</td> <td>2269.8601</td>  <td>True</td> \n",
       "</tr>\n",
       "<tr>\n",
       "     <td>Adelie - MALE</td>   <td>Chinstrap - FEMALE</td> <td>-516.2873</td>   <td>0.0</td>  <td>-700.4449</td> <td>-332.1296</td>  <td>True</td> \n",
       "</tr>\n",
       "<tr>\n",
       "     <td>Adelie - MALE</td>    <td>Chinstrap - MALE</td>  <td>-104.5226</td> <td>0.5812</td> <td>-288.6802</td>  <td>79.6351</td>   <td>False</td>\n",
       "</tr>\n",
       "<tr>\n",
       "     <td>Adelie - MALE</td>     <td>Gentoo - FEMALE</td>  <td>636.2482</td>    <td>0.0</td>  <td>480.2359</td>  <td>792.2606</td>   <td>True</td> \n",
       "</tr>\n",
       "<tr>\n",
       "     <td>Adelie - MALE</td>      <td>Gentoo - MALE</td>   <td>1441.3429</td>   <td>0.0</td>  <td>1287.4832</td> <td>1595.2026</td>  <td>True</td> \n",
       "</tr>\n",
       "<tr>\n",
       "  <td>Chinstrap - FEMALE</td>  <td>Chinstrap - MALE</td>  <td>411.7647</td>    <td>0.0</td>  <td>196.6479</td>  <td>626.8815</td>   <td>True</td> \n",
       "</tr>\n",
       "<tr>\n",
       "  <td>Chinstrap - FEMALE</td>   <td>Gentoo - FEMALE</td>  <td>1152.5355</td>   <td>0.0</td>  <td>960.9603</td>  <td>1344.1107</td>  <td>True</td> \n",
       "</tr>\n",
       "<tr>\n",
       "  <td>Chinstrap - FEMALE</td>    <td>Gentoo - MALE</td>   <td>1957.6302</td>   <td>0.0</td>  <td>1767.804</td>  <td>2147.4564</td>  <td>True</td> \n",
       "</tr>\n",
       "<tr>\n",
       "   <td>Chinstrap - MALE</td>    <td>Gentoo - FEMALE</td>  <td>740.7708</td>    <td>0.0</td>  <td>549.1956</td>   <td>932.346</td>   <td>True</td> \n",
       "</tr>\n",
       "<tr>\n",
       "   <td>Chinstrap - MALE</td>     <td>Gentoo - MALE</td>   <td>1545.8655</td>   <td>0.0</td>  <td>1356.0392</td> <td>1735.6917</td>  <td>True</td> \n",
       "</tr>\n",
       "<tr>\n",
       "    <td>Gentoo - FEMALE</td>     <td>Gentoo - MALE</td>   <td>805.0947</td>    <td>0.0</td>   <td>642.43</td>   <td>967.7594</td>   <td>True</td> \n",
       "</tr>\n",
       "</table>"
      ],
      "text/plain": [
       "<class 'statsmodels.iolib.table.SimpleTable'>"
      ]
     },
     "execution_count": 108,
     "metadata": {},
     "output_type": "execute_result"
    }
   ],
   "source": [
    "# Perform TukeyHSD test on the interaction between 'sex' and 'species'\n",
    "tukey_interaction = sm.stats.multicomp.pairwise_tukeyhsd(endog=penguins_clean['body_mass_g'],\n",
    "                                      groups=penguins_clean['species']+' - '+penguins_clean['sex'],\n",
    "                                      alpha=0.05)\n",
    "\n",
    "# Display the results of the TukeyHSD test\n",
    "tukey_interaction.summary()"
   ]
  },
  {
   "cell_type": "markdown",
   "metadata": {},
   "source": [
    "From this table, we can see that all spieces and sex combinations have significatnly different body mass from each other, except:\n",
    "* Females from the Adelie and Chisnstrap species.\n",
    "* Males from the Adelie and Chinstrap species.\n",
    "\n",
    "This agrees with our preliminary observation of the ditributions, but we have confirmed this with statistical arguments."
   ]
  },
  {
   "cell_type": "markdown",
   "metadata": {},
   "source": [
    "### Practice - ANOVA of Tooth Growth dataset\n",
    "\n",
    "In this section, you will apply what you’ve learned to a new dataset.\n",
    "\n",
    "The Tooth Growth dataset is commonly used for teaching statistical analysis and data visualization. The dataset is stored in the *toothgrowh.csv* file. It contains data from a study on the effects of vitamin C on tooth growth in guinea pigs. Specifically, the dataset records the length of odontoblasts (cells responsible for tooth growth) under different conditions. There are 60 observations across three key variables:\n",
    "\n",
    "1. len: Odontoblast length (numeric)\n",
    "2. supp: The type of supplement used (factor with two levels: “VC” for ascorbic acid or “OJ” for orange juice)\n",
    "3. dose: The dosage of vitamin C (numeric, in milligrams per day: 0.5, 1, or 2)\n",
    "\n",
    "The primary goal of this dataset is to explore the relationship between vitamin C dosage, the type of supplement, and tooth growth."
   ]
  }
 ],
 "metadata": {
  "kernelspec": {
   "display_name": "Python 3 (ipykernel)",
   "language": "python",
   "name": "python3"
  },
  "language_info": {
   "codemirror_mode": {
    "name": "ipython",
    "version": 3
   },
   "file_extension": ".py",
   "mimetype": "text/x-python",
   "name": "python",
   "nbconvert_exporter": "python",
   "pygments_lexer": "ipython3",
   "version": "3.11.2"
  }
 },
 "nbformat": 4,
 "nbformat_minor": 2
}
