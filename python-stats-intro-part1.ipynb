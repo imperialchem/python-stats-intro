{
 "cells": [
  {
   "cell_type": "markdown",
   "metadata": {},
   "source": [
    "# Introductory practical guide to Statistics in Python\n",
    "\n",
    "While doing research, you have, and will spend a considerable amount of time designing your experiments, executing them, and gathering data. You will then need to draw conclusions - have my experiments found something *significant*? As with everything in science, there is a particular rigour expected in data analysis, which ensures that the conclusions are made based on mathematics, probablity, and the chance of your results seeming different by chance - and not demonstrating a real effect. Simply, if you want to claim something, you will often need to determine whether an action you have taken (for example, using an antibiotic, using different reaction conditions, etc.) had a real effect on the outcome of an experiment.\n",
    "\n",
    "This course will help you build a foundation in statistical analysis using Python, which you can then use in your chemistry (and other) research. You’ll start with two-group comparisons, learning how to use t-tests and non-parametric methods to analyze differences between groups. Next, you’ll explore ANOVA for comparing multiple groups and understanding variability, and finally, tackle multiple hypothesis testing to manage more complex datasets.\n",
    "\n",
    "## Intended learning outcomes\n",
    "By the end of this course, you will be able to:\n",
    "\n",
    "* Understand the need for statistical analysis of data \n",
    "* Do exploratory data analysis in preparation for statistical analysis\n",
    "* Conduct statistical tests on simple datasets, including t-tests and ANOVA\n",
    "* Apply multiple hypothesis testing to control error rates in more complex datasets\n",
    "* Be able to explore other statistical methods suited for your unique research needs"
   ]
  },
  {
   "cell_type": "markdown",
   "metadata": {},
   "source": [
    "# Part 1 - two-mean comparisons\n",
    "\n",
    "### Hypothesis Testing and p-value\n",
    "\n",
    "Hypothesis testing is a fundamental statistical method used to determine whether there is enough evidence in a sample of data to determine that a certain condition is true for the entire population (for example, if you would measure all the penguins, or do an unlimited number of replicate experiments). In the context of comparing two group means, we typically set up two hypotheses:\n",
    "\n",
    "* Null Hypothesis (H₀): There is no significant difference between the distribution of the two groups.\n",
    "* Alternative Hypothesis (H₁): There is a significant difference between the distribution of the two groups.\n",
    "\n",
    "By doing hypothesis testing, we are trying to show that the null hypothesis is false, which by logic would mean that the alternative hypothesis is true. \n",
    "\n",
    "To test this, we usually calculate a p-value, which represents the probability of obtaining results at least as extreme (different from each other) as the observed data, assuming that the null hypothesis is true.\n",
    "\n",
    "A small p-value (typically less than 0.05, but in medical research, it is often set to 0.01 or even 0.001.) suggests that obtaining such results is not very probable (it would happen with probability equal to the p-value) under the null hypothesis, leading us to reject H₀ and conclude that there is a significant difference between the groups.\n",
    "\n",
    "A p-value greater than 0.05 suggests insufficient evidence to reject H₀.\n",
    "It is important to remember though that rejecting H₀ *does not prove* that there is no significant difference.\n",
    "This is not what we have been testing for.\n",
    "There is simply not enough evidence to say that there is significant difference - inferring other conclusions is inappropriate.\n",
    "\n",
    "### Practical application\n",
    "\n",
    "In this part, we will learn how to compare the means of two groups using statistical tests, specifically focusing on the Palmer Penguins dataset.\n",
    "We will compare the body mass between two penguin species to determine if there is a significant difference.\n",
    "\n",
    "The steps include:\n",
    "\n",
    "* Data loading and exploratory data analysis (EDA)\n",
    "* Visualization techniques for comparing two groups\n",
    "* Checking assumptions for statistical tests\n",
    "* Statistical tests: Mann-Whitney U test and Independent t-test\n",
    "* Interpreting results"
   ]
  },
  {
   "cell_type": "markdown",
   "metadata": {},
   "source": [
    "## Loading necessary libraries and data\n",
    "\n",
    "The script below is written for you and ready to execute, to facilitate fast transition to the statistical analysis. In the following parts, we will ask you to re-write the code - you will learn better that way."
   ]
  },
  {
   "cell_type": "code",
   "execution_count": 2,
   "metadata": {},
   "outputs": [
    {
     "name": "stdout",
     "output_type": "stream",
     "text": [
      "pandas is not installed. Installing...\n",
      "Defaulting to user installation because normal site-packages is not writeable\n",
      "Collecting pandas\n",
      "  Downloading pandas-2.2.2-cp39-cp39-macosx_11_0_arm64.whl (11.3 MB)\n",
      "Collecting numpy>=1.22.4\n",
      "  Downloading numpy-2.0.2-cp39-cp39-macosx_14_0_arm64.whl (5.3 MB)\n",
      "Collecting tzdata>=2022.7\n",
      "  Downloading tzdata-2024.1-py2.py3-none-any.whl (345 kB)\n",
      "Requirement already satisfied: python-dateutil>=2.8.2 in /Users/jradziko/Library/Python/3.9/lib/python/site-packages (from pandas) (2.9.0.post0)\n",
      "Collecting pytz>=2020.1\n",
      "  Downloading pytz-2024.2-py2.py3-none-any.whl (508 kB)\n",
      "Requirement already satisfied: six>=1.5 in /Library/Developer/CommandLineTools/Library/Frameworks/Python3.framework/Versions/3.9/lib/python3.9/site-packages (from python-dateutil>=2.8.2->pandas) (1.15.0)\n",
      "Installing collected packages: tzdata, pytz, numpy, pandas\n",
      "Successfully installed numpy-2.0.2 pandas-2.2.2 pytz-2024.2 tzdata-2024.1\n"
     ]
    },
    {
     "name": "stderr",
     "output_type": "stream",
     "text": [
      "WARNING: You are using pip version 21.2.4; however, version 24.2 is available.\n",
      "You should consider upgrading via the '/Library/Developer/CommandLineTools/usr/bin/python3 -m pip install --upgrade pip' command.\n"
     ]
    },
    {
     "name": "stdout",
     "output_type": "stream",
     "text": [
      "numpy is already installed.\n",
      "matplotlib is not installed. Installing...\n",
      "Defaulting to user installation because normal site-packages is not writeable\n",
      "Collecting matplotlib\n",
      "  Downloading matplotlib-3.9.2-cp39-cp39-macosx_11_0_arm64.whl (7.8 MB)\n",
      "Collecting kiwisolver>=1.3.1\n",
      "  Downloading kiwisolver-1.4.7-cp39-cp39-macosx_11_0_arm64.whl (64 kB)\n",
      "Requirement already satisfied: numpy>=1.23 in /Users/jradziko/Library/Python/3.9/lib/python/site-packages (from matplotlib) (2.0.2)\n",
      "Collecting contourpy>=1.0.1\n",
      "  Downloading contourpy-1.3.0-cp39-cp39-macosx_11_0_arm64.whl (249 kB)\n",
      "Collecting pyparsing>=2.3.1\n",
      "  Downloading pyparsing-3.1.4-py3-none-any.whl (104 kB)\n",
      "Requirement already satisfied: packaging>=20.0 in /Users/jradziko/Library/Python/3.9/lib/python/site-packages (from matplotlib) (24.1)\n",
      "Collecting importlib-resources>=3.2.0\n",
      "  Downloading importlib_resources-6.4.5-py3-none-any.whl (36 kB)\n",
      "Requirement already satisfied: python-dateutil>=2.7 in /Users/jradziko/Library/Python/3.9/lib/python/site-packages (from matplotlib) (2.9.0.post0)\n",
      "Collecting cycler>=0.10\n",
      "  Downloading cycler-0.12.1-py3-none-any.whl (8.3 kB)\n",
      "Collecting pillow>=8\n",
      "  Downloading pillow-10.4.0-cp39-cp39-macosx_11_0_arm64.whl (3.4 MB)\n",
      "Collecting fonttools>=4.22.0\n",
      "  Downloading fonttools-4.53.1-cp39-cp39-macosx_11_0_arm64.whl (2.2 MB)\n",
      "Requirement already satisfied: zipp>=3.1.0 in /Users/jradziko/Library/Python/3.9/lib/python/site-packages (from importlib-resources>=3.2.0->matplotlib) (3.20.2)\n",
      "Requirement already satisfied: six>=1.5 in /Library/Developer/CommandLineTools/Library/Frameworks/Python3.framework/Versions/3.9/lib/python3.9/site-packages (from python-dateutil>=2.7->matplotlib) (1.15.0)\n",
      "Installing collected packages: pyparsing, pillow, kiwisolver, importlib-resources, fonttools, cycler, contourpy, matplotlib\n",
      "Successfully installed contourpy-1.3.0 cycler-0.12.1 fonttools-4.53.1 importlib-resources-6.4.5 kiwisolver-1.4.7 matplotlib-3.9.2 pillow-10.4.0 pyparsing-3.1.4\n",
      "seaborn is not installed. Installing...\n",
      "Defaulting to user installation because normal site-packages is not writeable\n"
     ]
    },
    {
     "name": "stderr",
     "output_type": "stream",
     "text": [
      "WARNING: You are using pip version 21.2.4; however, version 24.2 is available.\n",
      "You should consider upgrading via the '/Library/Developer/CommandLineTools/usr/bin/python3 -m pip install --upgrade pip' command.\n"
     ]
    },
    {
     "name": "stdout",
     "output_type": "stream",
     "text": [
      "Collecting seaborn\n",
      "  Downloading seaborn-0.13.2-py3-none-any.whl (294 kB)\n",
      "Requirement already satisfied: pandas>=1.2 in /Users/jradziko/Library/Python/3.9/lib/python/site-packages (from seaborn) (2.2.2)\n",
      "Requirement already satisfied: matplotlib!=3.6.1,>=3.4 in /Users/jradziko/Library/Python/3.9/lib/python/site-packages (from seaborn) (3.9.2)\n",
      "Requirement already satisfied: numpy!=1.24.0,>=1.20 in /Users/jradziko/Library/Python/3.9/lib/python/site-packages (from seaborn) (2.0.2)\n",
      "Requirement already satisfied: pyparsing>=2.3.1 in /Users/jradziko/Library/Python/3.9/lib/python/site-packages (from matplotlib!=3.6.1,>=3.4->seaborn) (3.1.4)\n",
      "Requirement already satisfied: python-dateutil>=2.7 in /Users/jradziko/Library/Python/3.9/lib/python/site-packages (from matplotlib!=3.6.1,>=3.4->seaborn) (2.9.0.post0)\n",
      "Requirement already satisfied: packaging>=20.0 in /Users/jradziko/Library/Python/3.9/lib/python/site-packages (from matplotlib!=3.6.1,>=3.4->seaborn) (24.1)\n",
      "Requirement already satisfied: fonttools>=4.22.0 in /Users/jradziko/Library/Python/3.9/lib/python/site-packages (from matplotlib!=3.6.1,>=3.4->seaborn) (4.53.1)\n",
      "Requirement already satisfied: pillow>=8 in /Users/jradziko/Library/Python/3.9/lib/python/site-packages (from matplotlib!=3.6.1,>=3.4->seaborn) (10.4.0)\n",
      "Requirement already satisfied: kiwisolver>=1.3.1 in /Users/jradziko/Library/Python/3.9/lib/python/site-packages (from matplotlib!=3.6.1,>=3.4->seaborn) (1.4.7)\n",
      "Requirement already satisfied: contourpy>=1.0.1 in /Users/jradziko/Library/Python/3.9/lib/python/site-packages (from matplotlib!=3.6.1,>=3.4->seaborn) (1.3.0)\n",
      "Requirement already satisfied: importlib-resources>=3.2.0 in /Users/jradziko/Library/Python/3.9/lib/python/site-packages (from matplotlib!=3.6.1,>=3.4->seaborn) (6.4.5)\n",
      "Requirement already satisfied: cycler>=0.10 in /Users/jradziko/Library/Python/3.9/lib/python/site-packages (from matplotlib!=3.6.1,>=3.4->seaborn) (0.12.1)\n",
      "Requirement already satisfied: zipp>=3.1.0 in /Users/jradziko/Library/Python/3.9/lib/python/site-packages (from importlib-resources>=3.2.0->matplotlib!=3.6.1,>=3.4->seaborn) (3.20.2)\n",
      "Requirement already satisfied: pytz>=2020.1 in /Users/jradziko/Library/Python/3.9/lib/python/site-packages (from pandas>=1.2->seaborn) (2024.2)\n",
      "Requirement already satisfied: tzdata>=2022.7 in /Users/jradziko/Library/Python/3.9/lib/python/site-packages (from pandas>=1.2->seaborn) (2024.1)\n",
      "Requirement already satisfied: six>=1.5 in /Library/Developer/CommandLineTools/Library/Frameworks/Python3.framework/Versions/3.9/lib/python3.9/site-packages (from python-dateutil>=2.7->matplotlib!=3.6.1,>=3.4->seaborn) (1.15.0)\n",
      "Installing collected packages: seaborn\n",
      "Successfully installed seaborn-0.13.2\n",
      "scipy is not installed. Installing...\n"
     ]
    },
    {
     "name": "stderr",
     "output_type": "stream",
     "text": [
      "WARNING: You are using pip version 21.2.4; however, version 24.2 is available.\n",
      "You should consider upgrading via the '/Library/Developer/CommandLineTools/usr/bin/python3 -m pip install --upgrade pip' command.\n"
     ]
    },
    {
     "name": "stdout",
     "output_type": "stream",
     "text": [
      "Defaulting to user installation because normal site-packages is not writeable\n",
      "Collecting scipy\n",
      "  Downloading scipy-1.13.1-cp39-cp39-macosx_12_0_arm64.whl (30.3 MB)\n",
      "Requirement already satisfied: numpy<2.3,>=1.22.4 in /Users/jradziko/Library/Python/3.9/lib/python/site-packages (from scipy) (2.0.2)\n",
      "Installing collected packages: scipy\n",
      "Successfully installed scipy-1.13.1\n"
     ]
    },
    {
     "name": "stderr",
     "output_type": "stream",
     "text": [
      "WARNING: You are using pip version 21.2.4; however, version 24.2 is available.\n",
      "You should consider upgrading via the '/Library/Developer/CommandLineTools/usr/bin/python3 -m pip install --upgrade pip' command.\n"
     ]
    }
   ],
   "source": [
    "# First, we need to install all necessary packages - this script checks what is installed, and installs the missing ones.\n",
    "import importlib\n",
    "import subprocess\n",
    "import sys\n",
    "\n",
    "# List of required packages\n",
    "required_packages = [\n",
    "    'pandas', \n",
    "    'numpy', \n",
    "    'matplotlib', \n",
    "    'seaborn', \n",
    "    'scipy'\n",
    "]\n",
    "\n",
    "# Function to check if a package is installed\n",
    "def check_install_package(package):\n",
    "    try:\n",
    "        importlib.import_module(package)\n",
    "        print(f\"{package} is already installed.\")\n",
    "    except ImportError:\n",
    "        print(f\"{package} is not installed. Installing...\")\n",
    "        subprocess.check_call([sys.executable, '-m', 'pip', 'install', package])\n",
    "\n",
    "# Check and install each package\n",
    "for package in required_packages:\n",
    "    check_install_package(package)"
   ]
  },
  {
   "cell_type": "code",
   "execution_count": 3,
   "metadata": {},
   "outputs": [
    {
     "name": "stderr",
     "output_type": "stream",
     "text": [
      "Matplotlib is building the font cache; this may take a moment.\n"
     ]
    },
    {
     "data": {
      "text/html": [
       "<div>\n",
       "<style scoped>\n",
       "    .dataframe tbody tr th:only-of-type {\n",
       "        vertical-align: middle;\n",
       "    }\n",
       "\n",
       "    .dataframe tbody tr th {\n",
       "        vertical-align: top;\n",
       "    }\n",
       "\n",
       "    .dataframe thead th {\n",
       "        text-align: right;\n",
       "    }\n",
       "</style>\n",
       "<table border=\"1\" class=\"dataframe\">\n",
       "  <thead>\n",
       "    <tr style=\"text-align: right;\">\n",
       "      <th></th>\n",
       "      <th>species</th>\n",
       "      <th>island</th>\n",
       "      <th>bill_length_mm</th>\n",
       "      <th>bill_depth_mm</th>\n",
       "      <th>flipper_length_mm</th>\n",
       "      <th>body_mass_g</th>\n",
       "      <th>sex</th>\n",
       "    </tr>\n",
       "  </thead>\n",
       "  <tbody>\n",
       "    <tr>\n",
       "      <th>0</th>\n",
       "      <td>Adelie</td>\n",
       "      <td>Torgersen</td>\n",
       "      <td>39.1</td>\n",
       "      <td>18.7</td>\n",
       "      <td>181.0</td>\n",
       "      <td>3750.0</td>\n",
       "      <td>Male</td>\n",
       "    </tr>\n",
       "    <tr>\n",
       "      <th>1</th>\n",
       "      <td>Adelie</td>\n",
       "      <td>Torgersen</td>\n",
       "      <td>39.5</td>\n",
       "      <td>17.4</td>\n",
       "      <td>186.0</td>\n",
       "      <td>3800.0</td>\n",
       "      <td>Female</td>\n",
       "    </tr>\n",
       "    <tr>\n",
       "      <th>2</th>\n",
       "      <td>Adelie</td>\n",
       "      <td>Torgersen</td>\n",
       "      <td>40.3</td>\n",
       "      <td>18.0</td>\n",
       "      <td>195.0</td>\n",
       "      <td>3250.0</td>\n",
       "      <td>Female</td>\n",
       "    </tr>\n",
       "    <tr>\n",
       "      <th>3</th>\n",
       "      <td>Adelie</td>\n",
       "      <td>Torgersen</td>\n",
       "      <td>NaN</td>\n",
       "      <td>NaN</td>\n",
       "      <td>NaN</td>\n",
       "      <td>NaN</td>\n",
       "      <td>NaN</td>\n",
       "    </tr>\n",
       "    <tr>\n",
       "      <th>4</th>\n",
       "      <td>Adelie</td>\n",
       "      <td>Torgersen</td>\n",
       "      <td>36.7</td>\n",
       "      <td>19.3</td>\n",
       "      <td>193.0</td>\n",
       "      <td>3450.0</td>\n",
       "      <td>Female</td>\n",
       "    </tr>\n",
       "  </tbody>\n",
       "</table>\n",
       "</div>"
      ],
      "text/plain": [
       "  species     island  bill_length_mm  bill_depth_mm  flipper_length_mm  \\\n",
       "0  Adelie  Torgersen            39.1           18.7              181.0   \n",
       "1  Adelie  Torgersen            39.5           17.4              186.0   \n",
       "2  Adelie  Torgersen            40.3           18.0              195.0   \n",
       "3  Adelie  Torgersen             NaN            NaN                NaN   \n",
       "4  Adelie  Torgersen            36.7           19.3              193.0   \n",
       "\n",
       "   body_mass_g     sex  \n",
       "0       3750.0    Male  \n",
       "1       3800.0  Female  \n",
       "2       3250.0  Female  \n",
       "3          NaN     NaN  \n",
       "4       3450.0  Female  "
      ]
     },
     "execution_count": 3,
     "metadata": {},
     "output_type": "execute_result"
    }
   ],
   "source": [
    "# Import necessary libraries\n",
    "import pandas as pd\n",
    "import numpy as np\n",
    "import matplotlib.pyplot as plt\n",
    "import seaborn as sns\n",
    "from scipy.stats import ttest_ind, mannwhitneyu, shapiro, levene\n",
    "\n",
    "# Load Palmer Penguins dataset\n",
    "from seaborn import load_dataset\n",
    "\n",
    "# Load the dataset\n",
    "penguins = load_dataset('penguins')\n",
    "\n",
    "# Display the first few rows of the dataset\n",
    "penguins.head()"
   ]
  },
  {
   "cell_type": "markdown",
   "metadata": {},
   "source": [
    "## Data loading and cleaning\n",
    "\n",
    "In our dataset, we have some missing data - we will drop the rows that contain no values, and select the two out of three species that we are interested in comparing."
   ]
  },
  {
   "cell_type": "code",
   "execution_count": 4,
   "metadata": {},
   "outputs": [
    {
     "data": {
      "text/html": [
       "<div>\n",
       "<style scoped>\n",
       "    .dataframe tbody tr th:only-of-type {\n",
       "        vertical-align: middle;\n",
       "    }\n",
       "\n",
       "    .dataframe tbody tr th {\n",
       "        vertical-align: top;\n",
       "    }\n",
       "\n",
       "    .dataframe thead th {\n",
       "        text-align: right;\n",
       "    }\n",
       "</style>\n",
       "<table border=\"1\" class=\"dataframe\">\n",
       "  <thead>\n",
       "    <tr style=\"text-align: right;\">\n",
       "      <th></th>\n",
       "      <th>species</th>\n",
       "      <th>island</th>\n",
       "      <th>bill_length_mm</th>\n",
       "      <th>bill_depth_mm</th>\n",
       "      <th>flipper_length_mm</th>\n",
       "      <th>body_mass_g</th>\n",
       "      <th>sex</th>\n",
       "    </tr>\n",
       "  </thead>\n",
       "  <tbody>\n",
       "    <tr>\n",
       "      <th>0</th>\n",
       "      <td>Adelie</td>\n",
       "      <td>Torgersen</td>\n",
       "      <td>39.1</td>\n",
       "      <td>18.7</td>\n",
       "      <td>181.0</td>\n",
       "      <td>3750.0</td>\n",
       "      <td>Male</td>\n",
       "    </tr>\n",
       "    <tr>\n",
       "      <th>1</th>\n",
       "      <td>Adelie</td>\n",
       "      <td>Torgersen</td>\n",
       "      <td>39.5</td>\n",
       "      <td>17.4</td>\n",
       "      <td>186.0</td>\n",
       "      <td>3800.0</td>\n",
       "      <td>Female</td>\n",
       "    </tr>\n",
       "    <tr>\n",
       "      <th>2</th>\n",
       "      <td>Adelie</td>\n",
       "      <td>Torgersen</td>\n",
       "      <td>40.3</td>\n",
       "      <td>18.0</td>\n",
       "      <td>195.0</td>\n",
       "      <td>3250.0</td>\n",
       "      <td>Female</td>\n",
       "    </tr>\n",
       "    <tr>\n",
       "      <th>4</th>\n",
       "      <td>Adelie</td>\n",
       "      <td>Torgersen</td>\n",
       "      <td>36.7</td>\n",
       "      <td>19.3</td>\n",
       "      <td>193.0</td>\n",
       "      <td>3450.0</td>\n",
       "      <td>Female</td>\n",
       "    </tr>\n",
       "    <tr>\n",
       "      <th>5</th>\n",
       "      <td>Adelie</td>\n",
       "      <td>Torgersen</td>\n",
       "      <td>39.3</td>\n",
       "      <td>20.6</td>\n",
       "      <td>190.0</td>\n",
       "      <td>3650.0</td>\n",
       "      <td>Male</td>\n",
       "    </tr>\n",
       "  </tbody>\n",
       "</table>\n",
       "</div>"
      ],
      "text/plain": [
       "  species     island  bill_length_mm  bill_depth_mm  flipper_length_mm  \\\n",
       "0  Adelie  Torgersen            39.1           18.7              181.0   \n",
       "1  Adelie  Torgersen            39.5           17.4              186.0   \n",
       "2  Adelie  Torgersen            40.3           18.0              195.0   \n",
       "4  Adelie  Torgersen            36.7           19.3              193.0   \n",
       "5  Adelie  Torgersen            39.3           20.6              190.0   \n",
       "\n",
       "   body_mass_g     sex  \n",
       "0       3750.0    Male  \n",
       "1       3800.0  Female  \n",
       "2       3250.0  Female  \n",
       "4       3450.0  Female  \n",
       "5       3650.0    Male  "
      ]
     },
     "execution_count": 4,
     "metadata": {},
     "output_type": "execute_result"
    }
   ],
   "source": [
    "# Drop rows with missing values for simplicity\n",
    "penguins_clean = penguins.dropna()\n",
    "\n",
    "# Select two species for comparison: Adelie and Gentoo\n",
    "penguins_two_species = penguins_clean[penguins_clean['species'].isin(['Adelie', 'Gentoo'])]\n",
    "\n",
    "# Display the first few rows of the cleaned dataset\n",
    "penguins_two_species.head()"
   ]
  },
  {
   "cell_type": "markdown",
   "metadata": {},
   "source": [
    "## Exploratory data analysis\n",
    "\n",
    "We will now look at the gathered data - so we know what we are analysing.\n",
    "The first step is to look at the summary statistics for both the species.\n",
    "\n"
   ]
  },
  {
   "cell_type": "code",
   "execution_count": 5,
   "metadata": {},
   "outputs": [
    {
     "data": {
      "text/html": [
       "<div>\n",
       "<style scoped>\n",
       "    .dataframe tbody tr th:only-of-type {\n",
       "        vertical-align: middle;\n",
       "    }\n",
       "\n",
       "    .dataframe tbody tr th {\n",
       "        vertical-align: top;\n",
       "    }\n",
       "\n",
       "    .dataframe thead th {\n",
       "        text-align: right;\n",
       "    }\n",
       "</style>\n",
       "<table border=\"1\" class=\"dataframe\">\n",
       "  <thead>\n",
       "    <tr style=\"text-align: right;\">\n",
       "      <th></th>\n",
       "      <th>count</th>\n",
       "      <th>mean</th>\n",
       "      <th>std</th>\n",
       "      <th>min</th>\n",
       "      <th>25%</th>\n",
       "      <th>50%</th>\n",
       "      <th>75%</th>\n",
       "      <th>max</th>\n",
       "    </tr>\n",
       "    <tr>\n",
       "      <th>species</th>\n",
       "      <th></th>\n",
       "      <th></th>\n",
       "      <th></th>\n",
       "      <th></th>\n",
       "      <th></th>\n",
       "      <th></th>\n",
       "      <th></th>\n",
       "      <th></th>\n",
       "    </tr>\n",
       "  </thead>\n",
       "  <tbody>\n",
       "    <tr>\n",
       "      <th>Adelie</th>\n",
       "      <td>146.0</td>\n",
       "      <td>3706.164384</td>\n",
       "      <td>458.620135</td>\n",
       "      <td>2850.0</td>\n",
       "      <td>3362.5</td>\n",
       "      <td>3700.0</td>\n",
       "      <td>4000.0</td>\n",
       "      <td>4775.0</td>\n",
       "    </tr>\n",
       "    <tr>\n",
       "      <th>Gentoo</th>\n",
       "      <td>119.0</td>\n",
       "      <td>5092.436975</td>\n",
       "      <td>501.476154</td>\n",
       "      <td>3950.0</td>\n",
       "      <td>4700.0</td>\n",
       "      <td>5050.0</td>\n",
       "      <td>5500.0</td>\n",
       "      <td>6300.0</td>\n",
       "    </tr>\n",
       "  </tbody>\n",
       "</table>\n",
       "</div>"
      ],
      "text/plain": [
       "         count         mean         std     min     25%     50%     75%  \\\n",
       "species                                                                   \n",
       "Adelie   146.0  3706.164384  458.620135  2850.0  3362.5  3700.0  4000.0   \n",
       "Gentoo   119.0  5092.436975  501.476154  3950.0  4700.0  5050.0  5500.0   \n",
       "\n",
       "            max  \n",
       "species          \n",
       "Adelie   4775.0  \n",
       "Gentoo   6300.0  "
      ]
     },
     "execution_count": 5,
     "metadata": {},
     "output_type": "execute_result"
    }
   ],
   "source": [
    "# Summary statistics by species\n",
    "summary_stats = penguins_two_species.groupby('species')['body_mass_g'].describe()\n",
    "summary_stats"
   ]
  },
  {
   "cell_type": "markdown",
   "metadata": {},
   "source": [
    "In the table above, we see the number of datapoints per species, the mean value (it looks different, but is it?), the standard deviation, minimum and maximum values, and the 1st, 2nd and 3rd quartile values.\n",
    "While these look different, we cannot say anything about the significance of the difference yet.\n",
    "\n",
    "Before attempting analysis, let's vidualise the data first using box plots and histograms"
   ]
  },
  {
   "cell_type": "code",
   "execution_count": 10,
   "metadata": {},
   "outputs": [
    {
     "data": {
      "image/png": "[encoded data removed]",
      "text/plain": [
       "<Figure size 800x600 with 1 Axes>"
      ]
     },
     "metadata": {},
     "output_type": "display_data"
    }
   ],
   "source": [
    "# Box plot for visual comparison\n",
    "plt.figure(figsize=(8, 6))\n",
    "sns.boxplot(x='species', y='body_mass_g', data=penguins_two_species, hue='species', palette='Set2', legend=False)\n",
    "plt.title('Box Plot of Body Mass by Species')\n",
    "plt.xlabel('Species')\n",
    "plt.ylabel('Body Mass (g)')\n",
    "plt.show()"
   ]
  },
  {
   "cell_type": "code",
   "execution_count": 11,
   "metadata": {},
   "outputs": [
    {
     "data": {
      "image/png": "[encoded data removed]",
      "text/plain": [
       "<Figure size 1000x600 with 1 Axes>"
      ]
     },
     "metadata": {},
     "output_type": "display_data"
    }
   ],
   "source": [
    "# Histograms for data distribution\n",
    "plt.figure(figsize=(10, 6))\n",
    "sns.histplot(penguins_two_species[penguins_two_species['species'] == 'Adelie']['body_mass_g'], bins=15, kde=True, color='blue', label='Adelie')\n",
    "sns.histplot(penguins_two_species[penguins_two_species['species'] == 'Gentoo']['body_mass_g'], bins=15, kde=True, color='green', label='Gentoo')\n",
    "plt.title('Histogram of Body Mass by Species')\n",
    "plt.xlabel('Body Mass (g)')\n",
    "plt.ylabel('Frequency')\n",
    "plt.legend()\n",
    "plt.show()"
   ]
  },
  {
   "cell_type": "markdown",
   "metadata": {},
   "source": [
    "From the plots above, we can see that the two body mass distributions *look* different. Regardless of how different they look, a visual proof is not enough. We need to now perform formal statistical analysis on the data.\n",
    "\n",
    "### Two group comparisons - data assumptions\n",
    "\n",
    "For two-group comparisons you would usually use a t-test, which tests the null hypotesis in respect to the means of the distributions. It comes in several variations (for example, for paired and unpaired data).\n",
    "Note: Paired data is for example a score a particular person got on a test before and after reading a coursebook. Unpaired data is any other data where a link between the values in the two datasets is not apparent.\n",
    "\n",
    "You can only use the t-test if some assumptions about your data are met, or it will produce invalid results:\n",
    "\n",
    "1.\tIndependence of Observations: The data points in each group must be independent of each other.\n",
    "2.\tNormality: The data in each group should be approximately normally distributed, which is especially important for small sample sizes. This can be checked using normality tests (e.g., Shapiro-Wilk test) or visually with Q-Q plots.\n",
    "3.\tHomogeneity of Variances: The variances in the two groups should be roughly equal. This can be assessed using tests such as Levene’s test.\n",
    "\n",
    "If assumptions 2 or 3 are not met, you should use a non-parametric test, such as Mann-Whitney U test. This test does not compare means, rather than that comparing the median and the shape of the distribution.\n",
    "\n",
    "If assumption 1 is not met, you should use a pairwise t-test or Wilcoxon rank-sum test (see section \"Other Special Cases\")\n",
    "\n",
    "When these assumptions are met, the t-test is preferred over non-parametric alternatives like the Mann-Whitney U test because it is more statistically powerful. This means that the t-test is more likely to detect a true difference between the group means, given the same sample size. The Mann-Whitney U test does not assume normality and is less affected by outliers, but it typically has less power than the t-test when data are normally distributed and variances are equal. Therefore, when the assumptions of the t-test are met, it provides a more efficient and reliable way to detect differences between groups.\n",
    "\n",
    "### Checking assumptions\n",
    "\n",
    "We use the Shapiro-Wilk test to check if the body mass data is normally distributed for each species.\n"
   ]
  },
  {
   "cell_type": "code",
   "execution_count": 12,
   "metadata": {},
   "outputs": [
    {
     "name": "stdout",
     "output_type": "stream",
     "text": [
      "Shapiro-Wilk Test for Adelie: p-value = 0.0423\n",
      "Shapiro-Wilk Test for Gentoo: p-value = 0.2605\n"
     ]
    }
   ],
   "source": [
    "# Shapiro-Wilk test for normality\n",
    "shapiro_adelie = shapiro(penguins_two_species[penguins_two_species['species'] == 'Adelie']['body_mass_g'])\n",
    "shapiro_gentoo = shapiro(penguins_two_species[penguins_two_species['species'] == 'Gentoo']['body_mass_g'])\n",
    "\n",
    "print(f\"Shapiro-Wilk Test for Adelie: p-value = {shapiro_adelie.pvalue:.4f}\")\n",
    "print(f\"Shapiro-Wilk Test for Gentoo: p-value = {shapiro_gentoo.pvalue:.4f}\")"
   ]
  },
  {
   "cell_type": "markdown",
   "metadata": {},
   "source": [
    "We use Levene’s test to check if the variances are equal between the two groups."
   ]
  },
  {
   "cell_type": "code",
   "execution_count": 13,
   "metadata": {},
   "outputs": [
    {
     "name": "stdout",
     "output_type": "stream",
     "text": [
      "Levene's Test for Equal Variances: p-value = 0.1659\n"
     ]
    }
   ],
   "source": [
    "# Levene's test for equal variances\n",
    "levene_test = levene(penguins_two_species[penguins_two_species['species'] == 'Adelie']['body_mass_g'],\n",
    "                     penguins_two_species[penguins_two_species['species'] == 'Gentoo']['body_mass_g'])\n",
    "\n",
    "print(f\"Levene's Test for Equal Variances: p-value = {levene_test.pvalue:.4f}\")"
   ]
  },
  {
   "cell_type": "markdown",
   "metadata": {},
   "source": [
    "### Outcome of the assumption testing\n",
    "\n",
    "As the body mass data for the Gentoo species is not normally distributed, and the variances are not equal for both species, we cannot use the t-test to determine whether the mean body mass between the two species is significantly different. We will therefore use the the Mann-Whitney U test\n",
    "\n",
    "### Testing the difference in the means using the Mann-Whitney U test\n"
   ]
  },
  {
   "cell_type": "code",
   "execution_count": 16,
   "metadata": {},
   "outputs": [
    {
     "name": "stdout",
     "output_type": "stream",
     "text": [
      "Mann-Whitney U Test: U-statistic = 358.500000, p-value = 0.000000\n"
     ]
    }
   ],
   "source": [
    "# Mann-Whitney U test\n",
    "u_stat, u_pval = mannwhitneyu(penguins_two_species[penguins_two_species['species'] == 'Adelie']['body_mass_g'],\n",
    "                              penguins_two_species[penguins_two_species['species'] == 'Gentoo']['body_mass_g'])\n",
    "\n",
    "print(f\"Mann-Whitney U Test: U-statistic = {u_stat:.6f}, p-value = {u_pval:.6f}\")"
   ]
  },
  {
   "cell_type": "markdown",
   "metadata": {},
   "source": [
    "### Interpreting results\n",
    "\n",
    "Coming back to the theory bit, in the context of comparing two group means, we set up two hypotheses:\n",
    "\n",
    "* Null Hypothesis (H₀): There is no significant difference between the means of the two groups.\n",
    "* Alternative Hypothesis (H₁): There is a significant difference between the means of the two groups.\n",
    "\n",
    "The p-value from the Mann-Whitney U test helps determine if there is a significant difference between the means of the two species.\n",
    "\n",
    "* If p < 0.05, we reject the null hypothesis and conclude that there is a significant difference between the groups.\n",
    "* If p ≥ 0.05, we fail to reject the null hypothesis and conclude that there is no evidence for significant difference between the groups (which again, does not equal to evidence of no difference!)\n",
    "\n",
    "We can see that the p-value is less than 0.05, so we reject the null hypothesis and can now conclude: The Adelie and Gentoo species have significantly different mean body mass."
   ]
  },
  {
   "cell_type": "markdown",
   "metadata": {},
   "source": [
    "### What to do if my data does fulfill the t-test assumptions?\n",
    "\n",
    "While the example data is not normally distributed, and the variances in data are not equal between the two species, your dataset might contain normally distributed data with equal variances.\n",
    "In that case, you can perform a t-test using the following, or similar code, with the interpretation of the data same as for the Mann-Whitney U test.\n",
    "\n",
    "    #Independent t-test\n",
    "    t_stat, t_pval = ttest_ind(penguins_two_species[penguins_two_species['species'] == 'Adelie']['body_mass_g'],\n",
    "                               penguins_two_species[penguins_two_species['species'] == 'Gentoo']['body_mass_g'])\n",
    "\n",
    "    print(f\"Independent T-Test: t-statistic = {t_stat:.6f}, p-value = {t_pval:.6f}\")"
   ]
  },
  {
   "cell_type": "markdown",
   "metadata": {},
   "source": [
    "### Other special cases\n",
    "\n",
    "The above is a very basic approach. Your data might require a slightly deeper analysis.\n",
    "For example, let's say that you are researching the effect of students wathching a video on their test results, or the effect of a growth hormone treatment on the body mass of mice.\n",
    "In these cases, you would compare the test result or body mass before and after treatment, with the two groups of data not being independent from each other. You should even know which values in each dataset correspond to the same individuals.\n",
    "\n",
    "With data like that, you should explore doing a pairwise t-test - provided that your data is normally distributed and of equal variance, or Wilcoxon signed-rank test if not."
   ]
  },
  {
   "cell_type": "markdown",
   "metadata": {},
   "source": [
    "## Next steps\n",
    "\n",
    "In the next part of this course, we will look at comparing mean value between more than two groups using ANOVA."
   ]
  }
 ],
 "metadata": {
  "kernelspec": {
   "display_name": "Python 3",
   "language": "python",
   "name": "python3"
  },
  "language_info": {
   "codemirror_mode": {
    "name": "ipython",
    "version": 3
   },
   "file_extension": ".py",
   "mimetype": "text/x-python",
   "name": "python",
   "nbconvert_exporter": "python",
   "pygments_lexer": "ipython3",
   "version": "3.9.6"
  }
 },
 "nbformat": 4,
 "nbformat_minor": 2
}
